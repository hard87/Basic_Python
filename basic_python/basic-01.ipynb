{
 "cells": [
  {
   "cell_type": "markdown",
   "id": "7538f8ab",
   "metadata": {},
   "source": [
    "# <span style=\"color:#736AFF\">Olá Mundo!</span>"
   ]
  },
  {
   "cell_type": "markdown",
   "id": "b5a9facc",
   "metadata": {},
   "source": [
    "### Função  <span style=\"color:#222AFF\">print()</span>\n",
    "\n",
    "Sem dúvida a função print dentro do Python é uma das mais usadas quando se está iniciando.<br> Então bora começar a usar!"
   ]
  },
  {
   "cell_type": "code",
   "execution_count": 63,
   "id": "3fb2c082",
   "metadata": {},
   "outputs": [
    {
     "name": "stdout",
     "output_type": "stream",
     "text": [
      "Olá Mundo!\n"
     ]
    }
   ],
   "source": [
    "# Tudo que estiver dentro de () depois de print será mostrado na tela.\n",
    "\n",
    "print(\"Olá Mundo!\") \n",
    "\n",
    "#\"Tudo que está depois de '# : cerquilha, jogo da velha, hashtag, sustenido' será ignorado, tornando-o um comentário\""
   ]
  },
  {
   "cell_type": "markdown",
   "id": "99f7835e",
   "metadata": {},
   "source": [
    "Como podem ver a função print serve para mostrarmos as coisas, qualquer \"coisa\"."
   ]
  },
  {
   "cell_type": "markdown",
   "id": "b297d933",
   "metadata": {},
   "source": [
    "### Variáveis e tipos de dados:\n",
    "\n",
    "<i>\"Variáveis variam\" </i> -Nem sempre! Algumas variáveis podem ter valores constantes.<br>\n",
    "Isso mesmo, valores que não mudam (o que também nem sempre é verdade).<br>\n",
    "Variável é um mecanismo usado pelos programas para armazenar valores na memória RAM (Random Access Memory) do computador.<br> \n",
    "(Em resumo, seria isso).<br>\n",
    "Bora para o exemplo prático:\n"
   ]
  },
  {
   "cell_type": "code",
   "execution_count": 70,
   "id": "eaac01cc",
   "metadata": {},
   "outputs": [],
   "source": [
    "nome = 'Junior'\n",
    "idade = 34"
   ]
  },
  {
   "cell_type": "markdown",
   "id": "7c4ddc50",
   "metadata": {},
   "source": [
    "Aqui temos dois exemplos de variáveis, **<span style=\"color:#520ADF\">nome e idade</span>**, e elas guardam os valores: 'João' e 34 respectivamente. Cada valor é de um tipo de dado diferente, 'João' é uma string (str), 34 é um inteiro numérico (int).<br>\n",
    "Existem muitos outros tipos de dados, como:\n",
    "* **float:** tipo numérico, usado para representar números reais (9.99).\n",
    "* **bool: True ou False** variáveis lógicas, assumem apenas 1 de dois valores: verdadeiro ou falso.\n",
    "* **None:** variáveis que não possuem valor algum, ou tipo vazio.\n",
    "* **list [ ]:** conjunto de valores que podem ser alterados e aceita novas inserções.\n",
    "* **tuplas( ):** conjunto de valores que não aceita novas inserções ou alterações.\n",
    "* **set { }:** conjunto de valores único e ordenados, aceita modificão.\n",
    "\n",
    "Variáveis não podem e não devem conter caracteres especiais como **<span style=\"color:#520ADF\">ç ^ ~ ´ @</span>**, isso irá gerar um erro de leitura do código.<br>\n",
    "Também não iniciam com número ou letra maiúscula<br>\n",
    "em python declaramos variáveis descritivas, são mais fáceis de ler e serem entendidas por outra pessoas.<br>\n",
    "variáveis lógicas fazem mais sentido em um contexto condicional, <br>\n",
    "onde estabelecemos uma condição e esperamos que essa condição nos retorne um valor de verdadeiro ou falso<br>\n",
    "Vazio é apenas vazio, nada mais, mas podemos mudar isso, alterando o valor durante a execução do código.<br>\n",
    "listas podem receber qualquer valor, letras maiúsculas ou minúsculas, números e outros.<br>\n",
    "tuplas tem o mesmo prícipio básico das listas com a diferença que não podem ser alteradas.<br\n",
    "\n",
    "Existem outros tipos de dados, mas estes são bastante comuns e também bastante usados em python"
   ]
  },
  {
   "cell_type": "code",
   "execution_count": 67,
   "id": "51f3b2f8",
   "metadata": {},
   "outputs": [],
   "source": [
    "conjunto = {1, 2, 3, 4}"
   ]
  },
  {
   "cell_type": "code",
   "execution_count": 30,
   "id": "615583b0",
   "metadata": {},
   "outputs": [
    {
     "ename": "SyntaxError",
     "evalue": "invalid syntax (Temp/ipykernel_7912/1831997146.py, line 3)",
     "output_type": "error",
     "traceback": [
      "\u001b[1;36m  File \u001b[1;32m\"C:\\Users\\junio\\AppData\\Local\\Temp/ipykernel_7912/1831997146.py\"\u001b[1;36m, line \u001b[1;32m3\u001b[0m\n\u001b[1;33m    @casa = 'nova'\u001b[0m\n\u001b[1;37m          ^\u001b[0m\n\u001b[1;31mSyntaxError\u001b[0m\u001b[1;31m:\u001b[0m invalid syntax\n"
     ]
    }
   ],
   "source": [
    "# Exemplo de erro ao declarar uma variável da maneira errada:\n",
    "\n",
    "@casa = 'nova'\n"
   ]
  },
  {
   "cell_type": "code",
   "execution_count": 32,
   "id": "9dbc74ca",
   "metadata": {},
   "outputs": [],
   "source": [
    "\n",
    "preco = 10.99\n",
    "verdadeiro = False\n",
    "sem_valor = None\n",
    "lista_da_feira = ['abacate', 'Abacaxi', 'melão', 'Banana', 'queijo', 10, lista_vazia, verdadeiro, preco]\n",
    "valores_constantes = (1, 4, 6, 12, 33, 0)"
   ]
  },
  {
   "cell_type": "markdown",
   "id": "07e36ac2",
   "metadata": {},
   "source": [
    "### Função <span style=\"color:#552EFC\">type()</span>\n",
    "\n",
    "Na dúvida, nós podemos usar a função type, que nos retona o tipo de dado daquela variável.<br>\n",
    "Vamos ao exemplo prático:"
   ]
  },
  {
   "cell_type": "code",
   "execution_count": 34,
   "id": "fb7ab660",
   "metadata": {},
   "outputs": [
    {
     "name": "stdout",
     "output_type": "stream",
     "text": [
      "<class 'str'>\n",
      "<class 'int'>\n",
      "<class 'float'>\n",
      "<class 'NoneType'>\n",
      "<class 'list'>\n",
      "<class 'tuple'>\n"
     ]
    }
   ],
   "source": [
    "print(type(nome))\n",
    "print(type(idade))\n",
    "print(type(preco))\n",
    "print(type(sem_valor))\n",
    "print(type(lista_da_feira))\n",
    "print(type(valores_constantes))\n",
    "# Podemos usar apenas type('nome_da_variavel'), mas quando queremos retornar mais de um type, aí usamos o print"
   ]
  },
  {
   "cell_type": "markdown",
   "id": "223b99d2",
   "metadata": {},
   "source": [
    "### Operações entre variáveis\n",
    "\n",
    "A programação tem apenas uma finalidade, solucionar problemas. (assim penso eu 😀)<br>\n",
    "E resolver problemas é divertido e desafiador.<br>\n",
    "**<span style=\"color:#ffa500\">Partiu prática!</span>**\n"
   ]
  },
  {
   "cell_type": "code",
   "execution_count": 56,
   "id": "faf3bf5d",
   "metadata": {},
   "outputs": [
    {
     "name": "stdout",
     "output_type": "stream",
     "text": [
      "44.99\n"
     ]
    },
    {
     "data": {
      "text/plain": [
       "['abacate', 'Abacaxi', 'melão', 'Banana', 'queijo', 10, None, False, 10.99]"
      ]
     },
     "execution_count": 56,
     "metadata": {},
     "output_type": "execute_result"
    }
   ],
   "source": [
    "# Podemos realizar operações matemáticas entre variáveis, desde que elas sejam do tipo numérico:\n",
    "\n",
    "novo_valor = preco + idade\n",
    "\n",
    "print(novo_valor)\n",
    "\n",
    "# Variável preco e idade são tipos diferentes de dados, mas ambas são do tipo númerico\n",
    "# Portanto é possível realizar operações entre elas\n",
    "# Em Python podemos verificar o valor da variavel apenas pelo próprio nome da variável,\n",
    "# sem precisar usar a função print()\n",
    "# Porém, isso só é possível para o último valor requisitado. \n",
    "# Por exemplo:\n",
    "\n",
    "novo_valor\n",
    "lista_da_feira"
   ]
  },
  {
   "cell_type": "code",
   "execution_count": 60,
   "id": "e471313c",
   "metadata": {},
   "outputs": [
    {
     "name": "stdout",
     "output_type": "stream",
     "text": [
      "['abacate', 'Abacaxi', 'melão', 'Banana', 'queijo', 10, None, False, 10.99, 'abacate', 'Abacaxi', 'melão', 'Banana', 'queijo', 10, None, False, 10.99]\n"
     ]
    }
   ],
   "source": [
    "# Também podemos usar operadores matemáticos para concatenar listas:\n",
    "\n",
    "nova_lista = lista_da_feira + lista_da_feira\n",
    "print(nova_lista)\n",
    "\n",
    "# Não podemos realizar essas operações com tipos de dados diferentes, isso gera um erro em nosso código (em Python*)"
   ]
  },
  {
   "cell_type": "markdown",
   "id": "fa47f446",
   "metadata": {},
   "source": [
    "### Conversão de tipo de dado\n",
    "\n",
    "É mais fácil agora ver o que podemos fazer com variáveis e tipos de dados.<br>\n",
    "Mas também é importante ressaltar, que é possível converter certos tipos de dados.<br>\n",
    "Tipo INT para FLOAT e vice versa, numérico para string, e string para numérico, e converter listas e outros.<br>\n",
    "\n",
    "<br>\n",
    "Vamos ao exemplo prático de conversão e concatenação:<br>\n",
    "\n",
    "**Observe no código que separamos o nome da variável e o valor dela por vírgula**"
   ]
  },
  {
   "cell_type": "code",
   "execution_count": 84,
   "id": "84f383d0",
   "metadata": {},
   "outputs": [
    {
     "name": "stdout",
     "output_type": "stream",
     "text": [
      "a =  5.0\n",
      "<class 'float'>\n",
      "a =  5\n",
      "<class 'int'>\n",
      "a =  5.0\n",
      "<class 'float'>\n",
      "\n",
      "\n",
      "***---///\\\\---***\n",
      "\n",
      "\n",
      "b =  4.56\n",
      "<class 'float'>\n",
      "b =  4\n",
      "<class 'int'>\n",
      "b =  4.0\n",
      "<class 'float'>\n"
     ]
    }
   ],
   "source": [
    "a = 5.0\n",
    "print('a = ', a) # Exemplo de como concatenar o nome da variável com o valor da variável para mostrar na saída\n",
    "print(type(a))\n",
    "\n",
    "\n",
    "a = int(a)\n",
    "print('a = ', a)\n",
    "print(type(a))\n",
    "\n",
    "a = float(a)\n",
    "print('a = ', a)\n",
    "print(type(a))\n",
    "\n",
    "print('\\n') # O'\\n' faz pular para próxima linha, quase como o comando enter no editor de texto.\n",
    "print(\"***---///\\\\\\---***\")\n",
    "print('\\n') # Isso deixa nossa saída mais amigável para quem não está acostumado com código.\n",
    "\n",
    "# se tentarmos converter valores decimais \"quebrados\" para o tipo inteiro, certamente perderemos informação:\n",
    "b = 4.56\n",
    "print('b = ', b)\n",
    "print(type(b))\n",
    "\n",
    "b = int(b)\n",
    "print('b = ', b)\n",
    "print(type(b))\n",
    "\n",
    "\n",
    "b = float(b)\n",
    "print('b = ', b) # O espaço após a vírgula é apenas para deixar o código visualmente bonito.\n",
    "print(type(b))"
   ]
  },
  {
   "cell_type": "code",
   "execution_count": null,
   "id": "3f03e2a7",
   "metadata": {},
   "outputs": [],
   "source": []
  }
 ],
 "metadata": {
  "kernelspec": {
   "display_name": "Python 3 (ipykernel)",
   "language": "python",
   "name": "python3"
  },
  "language_info": {
   "codemirror_mode": {
    "name": "ipython",
    "version": 3
   },
   "file_extension": ".py",
   "mimetype": "text/x-python",
   "name": "python",
   "nbconvert_exporter": "python",
   "pygments_lexer": "ipython3",
   "version": "3.9.7"
  }
 },
 "nbformat": 4,
 "nbformat_minor": 5
}
