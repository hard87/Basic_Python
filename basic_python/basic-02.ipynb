{
 "cells": [
  {
   "cell_type": "markdown",
   "id": "925ff76e",
   "metadata": {},
   "source": [
    "# Continue ...\n",
    "\n",
    "Espero que você já tenha entendido o que é uma variável e para que ela serve.<br>\n",
    "Vamos dar uma olhada nas quatro operações matemáticas básicas.<br>\n",
    "Mas, calma! Python não serve só para fazer cálculo. <br>\n",
    "<br>\n",
    "**Caso você tenha esquecido quais são:**\n",
    "\n",
    "* Soma **'+'**\n",
    "* Subtração **'-'**\n",
    "* Divisão **'/'**\n",
    "* Multiplicação **'*'**<br>\n",
    "<br>\n",
    "<i>O que muitas pessoas não sabem, é que o Python é uma calculadora poderosa e muito útil, use isso a seu favor!</i>"
   ]
  },
  {
   "cell_type": "code",
   "execution_count": 4,
   "id": "8e633fa7",
   "metadata": {},
   "outputs": [
    {
     "data": {
      "text/plain": [
       "8"
      ]
     },
     "execution_count": 4,
     "metadata": {},
     "output_type": "execute_result"
    }
   ],
   "source": [
    "# Dê nomes as suas variáveis que façam sentido para você.\n",
    "# Darei o nome de letras por se tratar de cálculos apenas para demonstração.\n",
    "\n",
    "a = 5 # dizemos que 'a' recebe o valor 5 ou apenas 5. o símbolo '=' na programação é um atribuídor de valores.\n",
    "b = 3\n",
    "c = a + b\n",
    "c\n",
    "# caso não tenha entendido o que está acontecendo, a variável 'c', está guardando o resultado da operação de a + b "
   ]
  },
  {
   "cell_type": "code",
   "execution_count": 3,
   "id": "13a456e4",
   "metadata": {},
   "outputs": [
    {
     "data": {
      "text/plain": [
       "2"
      ]
     },
     "execution_count": 3,
     "metadata": {},
     "output_type": "execute_result"
    }
   ],
   "source": [
    "d = a - b\n",
    "d"
   ]
  },
  {
   "cell_type": "code",
   "execution_count": 5,
   "id": "bdd208d6",
   "metadata": {},
   "outputs": [
    {
     "data": {
      "text/plain": [
       "1.6666666666666667"
      ]
     },
     "execution_count": 5,
     "metadata": {},
     "output_type": "execute_result"
    }
   ],
   "source": [
    "e = a / b\n",
    "e"
   ]
  },
  {
   "cell_type": "code",
   "execution_count": 7,
   "id": "5b713f05",
   "metadata": {},
   "outputs": [
    {
     "data": {
      "text/plain": [
       "15"
      ]
     },
     "execution_count": 7,
     "metadata": {},
     "output_type": "execute_result"
    }
   ],
   "source": [
    "f = a * b\n",
    "f"
   ]
  },
  {
   "cell_type": "markdown",
   "id": "0f7b5966",
   "metadata": {},
   "source": [
    "### Ok, e que tal tornamos as coisas mais interessantes?\n",
    "\n",
    "Vamos supor que você queira saber qual a divisão inteira de uma operação ou qual o resultado de uma potenciação (exponenciação)<br>\n",
    "E talvez agora queira extrair o resto daquela mesma divisão inteira, quem sabe. O Python faz!"
   ]
  },
  {
   "cell_type": "code",
   "execution_count": 8,
   "id": "cf8a93c4",
   "metadata": {},
   "outputs": [
    {
     "data": {
      "text/plain": [
       "1"
      ]
     },
     "execution_count": 8,
     "metadata": {},
     "output_type": "execute_result"
    }
   ],
   "source": [
    "divisao_inteira = a // b # Aqui está o operador de divisão inteira\n",
    "divisao_inteira"
   ]
  },
  {
   "cell_type": "code",
   "execution_count": 9,
   "id": "8a47983c",
   "metadata": {},
   "outputs": [
    {
     "data": {
      "text/plain": [
       "2"
      ]
     },
     "execution_count": 9,
     "metadata": {},
     "output_type": "execute_result"
    }
   ],
   "source": [
    "# Ah, agora você quer saber apenas o resto da mesma divisão?\n",
    "resto_da_divisao = a % b\n",
    "resto_da_divisao"
   ]
  },
  {
   "cell_type": "code",
   "execution_count": 10,
   "id": "1f17b3c3",
   "metadata": {},
   "outputs": [
    {
     "data": {
      "text/plain": [
       "125"
      ]
     },
     "execution_count": 10,
     "metadata": {},
     "output_type": "execute_result"
    }
   ],
   "source": [
    "potencia = a ** b\n",
    "potencia"
   ]
  },
  {
   "cell_type": "code",
   "execution_count": 15,
   "id": "ffa5f9c1",
   "metadata": {},
   "outputs": [
    {
     "data": {
      "text/plain": [
       "125"
      ]
     },
     "execution_count": 15,
     "metadata": {},
     "output_type": "execute_result"
    }
   ],
   "source": [
    "# Dentro do Python temos métodos, e o pow() é um deles, segue o exemplo abaixo para exemplificar seu uso\n",
    "\n",
    "potencia_pow = pow(a, b)\n",
    "potencia_pow"
   ]
  },
  {
   "cell_type": "code",
   "execution_count": 44,
   "id": "27895b61",
   "metadata": {},
   "outputs": [
    {
     "name": "stdout",
     "output_type": "stream",
     "text": [
      "1.6666666666666667\n",
      "1\n",
      "2\n",
      "125\n",
      "125\n"
     ]
    }
   ],
   "source": [
    "# Se for mais fácil pra você usar números no lugar de variáveis, fique a vontade:\n",
    "\n",
    "print(5 / 3) # divisão normal\n",
    "\n",
    "print(5 // 3) # divisão inteira\n",
    "\n",
    "print(5 % 3) # resto da divisão\n",
    "\n",
    "print(5 ** 3) # potenciação\n",
    "\n",
    "print(pow(5, 3)) # potenciação usando o pow()"
   ]
  },
  {
   "cell_type": "markdown",
   "id": "c835226c",
   "metadata": {},
   "source": [
    "### Porque não tentar fazer o mesmo com expressões numéricas?"
   ]
  },
  {
   "cell_type": "code",
   "execution_count": 43,
   "id": "0fe71985",
   "metadata": {},
   "outputs": [
    {
     "name": "stdout",
     "output_type": "stream",
     "text": [
      "5\n",
      "5\n",
      "7\n",
      "-3\n"
     ]
    }
   ],
   "source": [
    "x = 3 * 3 + 1 - 5\n",
    "print(x)\n",
    "\n",
    "# Agora, vejamos o que acontece se colocarmos parenteses na jogada\n",
    "\n",
    "y = 3 * 3 + (1 - 5)\n",
    "print(y)\n",
    "\n",
    "z = 3 * (3 + 1) - 5\n",
    "print(z)\n",
    "\n",
    "i = 3 * (3+(1-5))\n",
    "print(i)"
   ]
  },
  {
   "cell_type": "markdown",
   "id": "00230542",
   "metadata": {},
   "source": [
    "[Python-Doc](\"https://www.python.org/doc/\")\n",
    "\n",
    "Vou tentar explicar caso tenha ficado confuso: <br>\n",
    "* Sempre olhamos da esquerda para direita\n",
    "* Parenteses tem maior prioridade\n",
    "* Depois multiplicação e divisão (o que vier antes)\n",
    "* E por último soma e subtração ( o que vier antes)<br>\n",
    "<br>\n",
    "Basicamente seria isso. Dê uma olhada na documentação própria do Python para uma análise mais completa</br>\n",
    "<br>\n",
    "E outras equações um pouco mais complexas?\n"
   ]
  },
  {
   "cell_type": "code",
   "execution_count": null,
   "id": "4d27fdcd",
   "metadata": {},
   "outputs": [],
   "source": []
  }
 ],
 "metadata": {
  "kernelspec": {
   "display_name": "Python 3 (ipykernel)",
   "language": "python",
   "name": "python3"
  },
  "language_info": {
   "codemirror_mode": {
    "name": "ipython",
    "version": 3
   },
   "file_extension": ".py",
   "mimetype": "text/x-python",
   "name": "python",
   "nbconvert_exporter": "python",
   "pygments_lexer": "ipython3",
   "version": "3.9.7"
  }
 },
 "nbformat": 4,
 "nbformat_minor": 5
}
